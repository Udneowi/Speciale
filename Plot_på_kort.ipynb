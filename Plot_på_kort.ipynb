{
 "cells": [
  {
   "cell_type": "code",
   "execution_count": 2,
   "metadata": {},
   "outputs": [
    {
     "data": {
      "text/plain": [
       "<torch._C.Generator at 0x1a80ce3ea90>"
      ]
     },
     "execution_count": 2,
     "metadata": {},
     "output_type": "execute_result"
    }
   ],
   "source": [
    "import numpy as np\n",
    "import json\n",
    "import matplotlib.pyplot as plt\n",
    "import seaborn as sns\n",
    "from collections import Counter\n",
    "import copy\n",
    "\n",
    "import torch\n",
    "import torch.nn as nn\n",
    "import torch.nn.functional as F\n",
    "import torch.optim as optim\n",
    "import pandas as pd\n",
    "\n",
    "from datetime import datetime, timedelta\n",
    "\n",
    "import operator\n",
    "\n",
    "import mpmath as mp\n",
    "from importlib import reload\n",
    "\n",
    "from utils import utils, net_lstm, net_lstm_w2v\n",
    "from tqdm import tqdm\n",
    "import random\n",
    "sns.set(style=\"whitegrid\")\n",
    "\n",
    "\n",
    "torch.manual_seed(1)"
   ]
  },
  {
   "cell_type": "code",
   "execution_count": 3,
   "metadata": {},
   "outputs": [],
   "source": [
    "reload(utils)\n",
    "# Getting a list of valid candidates given properties\n",
    "pep_info = pd.read_pickle(\"data_inf.pkl\")\n",
    "\n",
    "pep_600 = list(pep_info[(pep_info[\"length\"]>1000)].index)\n",
    "good_peps = np.loadtxt('good_peps.txt',dtype=int)\n",
    "\n",
    "# Defining users for the different data sets.\n",
    "train_peps = good_peps[good_peps<=600]\n",
    "train_peps = np.array(list(set(train_peps).intersection(pep_600)))\n",
    "\n",
    "train_peps_all = good_peps\n",
    "train_peps_all = np.array(list(set(train_peps_all).intersection(pep_600)))\n",
    "\n",
    "train_peps_vali = good_peps[good_peps>600]\n",
    "train_peps_vali = np.array(list(set(train_peps_vali).intersection(pep_600)))\n",
    "\n",
    "# Load in data of the test set\n",
    "_, dat_test_vali = utils.load_train_test_set(train_peps_vali,bs=10)"
   ]
  },
  {
   "cell_type": "code",
   "execution_count": 4,
   "metadata": {},
   "outputs": [],
   "source": [
    "# Create network\n",
    "reload(net_lstm_w2v)\n",
    "net = net_lstm_w2v.Brain()\n",
    "net.bs = 1\n",
    "net.seq_len=100\n",
    "\n",
    "net.create_model()"
   ]
  },
  {
   "cell_type": "code",
   "execution_count": 5,
   "metadata": {},
   "outputs": [
    {
     "data": {
      "text/plain": [
       "<All keys matched successfully>"
      ]
     },
     "execution_count": 5,
     "metadata": {},
     "output_type": "execute_result"
    }
   ],
   "source": [
    "# Load in previously trained weights\n",
    "net.model.load_state_dict(torch.load(\"Network/network_epoch_0.338_Feb-23-2020\"))"
   ]
  },
  {
   "cell_type": "code",
   "execution_count": 6,
   "metadata": {
    "scrolled": false
   },
   "outputs": [
    {
     "name": "stdout",
     "output_type": "stream",
     "text": [
      "Test loss: 1.161 | Test accu: 0.340 | Test accu expl: 0.814 | Test expl AUC: 0.708 | "
     ]
    }
   ],
   "source": [
    "# Get predictions of the network\n",
    "net_res = net.test(dat_test_vali,pep_acc = True)"
   ]
  },
  {
   "cell_type": "code",
   "execution_count": 7,
   "metadata": {},
   "outputs": [],
   "source": [
    "# Defining how to plot on a map\n",
    "import geoplotlib\n",
    "from geoplotlib.utils import BoundingBox\n",
    "from geoplotlib.layers import BaseLayer\n",
    "from geoplotlib.core import BatchPainter\n",
    "    \n",
    "class CustomLayer(BaseLayer):\n",
    "\n",
    "    def __init__(self, data_true, data_guess):\n",
    "        self.data_true = data_true\n",
    "        self.data_guess = data_guess\n",
    "        self.painter = BatchPainter()\n",
    "\n",
    "    def invalidate(self, proj):\n",
    "        x_true, y_true = proj.lonlat_to_screen(self.data_true['lon'], self.data_true['lat'])\n",
    "        x_guess, y_guess = proj.lonlat_to_screen(self.data_guess['lon'], self.data_guess['lat'])\n",
    "        #Previous true\n",
    "        self.painter.set_color('red') #blue\n",
    "        self.painter.lines(x_true[:-2], y_true[:-2], x_true[1:-1], y_true[1:-1] ,width = 3)\n",
    "        self.painter.points(x_true[:-1], y_true[:-1],8,True)\n",
    "        self.painter.set_color('black')\n",
    "        self.painter.points(x_true[-2], y_true[-2],8,True)\n",
    "        if self.data_true['lon'][-1] == self.data_true['lat'][-1]:\n",
    "            #Next guess\n",
    "            self.painter.set_color([0,255,0,255]) #blue\n",
    "            self.painter.points(x_guess[-1], y_guess[-1],8,True)\n",
    "            self.painter.lines(x_true[-2], y_true[-2], x_guess[-1], y_guess[-1] ,width = 3)\n",
    "        else:\n",
    "            #Next guess\n",
    "            self.painter.set_color([0,0,255,255]) #blue\n",
    "            self.painter.points(x_guess[-1], y_guess[-1],8,True)\n",
    "            self.painter.set_color([0,0,255,100]) #blue\n",
    "            self.painter.lines(x_true[-2], y_true[-2], x_guess[-1], y_guess[-1] ,width = 3)\n",
    "            #Next true\n",
    "            self.painter.set_color([255,0,255,255]) #purple\n",
    "            self.painter.points(x_true[-1], y_true[-1],8,True)\n",
    "            self.painter.set_color([255,0,255,100]) #purple\n",
    "            self.painter.lines(x_true[-2], y_true[-2], x_true[-1], y_true[-1] ,width = 3)\n",
    "\n",
    "    def draw(self, proj, mouse_x, mouse_y, ui_manager):\n",
    "        self.painter.batch_draw()\n",
    "\n"
   ]
  },
  {
   "cell_type": "code",
   "execution_count": 8,
   "metadata": {},
   "outputs": [],
   "source": [
    "# Plotting 6 maps of the trajectory\n",
    "pep = 718\n",
    "path_guess_target = np.transpose(np.array([net_res[1][pep]['guess'],net_res[1][pep]['target']]))\n",
    "with open(f\"Data_m_loc/{pep}/stop_coords.json\") as json_file:\n",
    "    data_loc = np.array(json.load(json_file))\n",
    "df_labels = pd.read_pickle(f\"Data/{pep}/label_dict.pkl\")\n",
    "with open(f\"Data_m_loc/{pep}/final_series.json\") as json_file:\n",
    "    data_path = np.array(json.load(json_file))\n",
    "data_path = np.array([i[-1] for i in data_path])\n",
    "true_labels = data_path[int(data_path.shape[0]*0.9):]\n",
    "guess_labels = (df_labels.loc[net_res[1][pep]['guess']]).to_numpy().ravel().astype('int')\n",
    "\n",
    "ii_start = 17  #51\n",
    "for j in range(2,8):\n",
    "    ii_end = ii_start+j\n",
    "    dict_lat_lon_true = {'lat':data_loc[true_labels[ii_start:ii_end]].transpose()[0],'lon':data_loc[true_labels[ii_start:ii_end]].transpose()[1]}\n",
    "    dict_lat_lon_guess = {'lat':data_loc[guess_labels[ii_start:ii_end]].transpose()[0],'lon':data_loc[guess_labels[ii_start:ii_end]].transpose()[1]}\n",
    "    data_guess = dict_lat_lon_guess\n",
    "    data_true = dict_lat_lon_true\n",
    "    geoplotlib.add_layer(CustomLayer(data_true,data_guess))\n",
    "    geoplotlib.set_bbox(BoundingBox.from_points(data_true[\"lon\"],data_true[\"lat\"]).KBH)\n",
    "    #geoplotlib.savefig(f\"figures/gps_move_plot_{j}\")\n",
    "    geoplotlib.show()"
   ]
  },
  {
   "cell_type": "code",
   "execution_count": null,
   "metadata": {},
   "outputs": [],
   "source": []
  }
 ],
 "metadata": {
  "kernelspec": {
   "display_name": "Python 3",
   "language": "python",
   "name": "python3"
  },
  "language_info": {
   "codemirror_mode": {
    "name": "ipython",
    "version": 3
   },
   "file_extension": ".py",
   "mimetype": "text/x-python",
   "name": "python",
   "nbconvert_exporter": "python",
   "pygments_lexer": "ipython3",
   "version": "3.7.3"
  }
 },
 "nbformat": 4,
 "nbformat_minor": 2
}
